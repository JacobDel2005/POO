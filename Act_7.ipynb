{
  "nbformat": 4,
  "nbformat_minor": 0,
  "metadata": {
    "colab": {
      "provenance": [],
      "authorship_tag": "ABX9TyMpuKnsqLRsKQzvbTkCCoWI",
      "include_colab_link": true
    },
    "kernelspec": {
      "name": "python3",
      "display_name": "Python 3"
    },
    "language_info": {
      "name": "python"
    }
  },
  "cells": [
    {
      "cell_type": "markdown",
      "metadata": {
        "id": "view-in-github",
        "colab_type": "text"
      },
      "source": [
        "<a href=\"https://colab.research.google.com/github/JacobDel2005/POO/blob/main/Act_7.ipynb\" target=\"_parent\"><img src=\"https://colab.research.google.com/assets/colab-badge.svg\" alt=\"Open In Colab\"/></a>"
      ]
    },
    {
      "cell_type": "code",
      "source": [
        "!pip install cryptography"
      ],
      "metadata": {
        "colab": {
          "base_uri": "https://localhost:8080/"
        },
        "id": "8CsHKSKJ5opc",
        "outputId": "db16bd0a-2e71-441f-d0dd-bae08d87a000"
      },
      "execution_count": 14,
      "outputs": [
        {
          "output_type": "stream",
          "name": "stdout",
          "text": [
            "Requirement already satisfied: cryptography in /usr/local/lib/python3.10/dist-packages (43.0.1)\n",
            "Requirement already satisfied: cffi>=1.12 in /usr/local/lib/python3.10/dist-packages (from cryptography) (1.17.1)\n",
            "Requirement already satisfied: pycparser in /usr/local/lib/python3.10/dist-packages (from cffi>=1.12->cryptography) (2.22)\n"
          ]
        }
      ]
    },
    {
      "cell_type": "code",
      "source": [
        "from cryptography.fernet import Fernet\n",
        "\n",
        "class Auto:\n",
        "    key = Fernet.generate_key()\n",
        "    fernet = Fernet(key)\n",
        "\n",
        "    def __init__(self, marca, modelo, color, velocidad_maxima, precio):\n",
        "        self._marca = self.cifrar(marca)\n",
        "        self._modelo = self.cifrar(modelo)\n",
        "        self.color = color\n",
        "        self.velocidad_maxima = velocidad_maxima\n",
        "        self.precio = precio\n",
        "\n",
        "    def cifrar(self, texto):\n",
        "        return self.fernet.encrypt(texto.encode())\n",
        "\n",
        "    def descifrar(self, texto_cifrado):\n",
        "        return self.fernet.decrypt(texto_cifrado).decode()\n",
        "\n",
        "    def __str__(self):\n",
        "        return f\"Auto {self.descifrar(self._marca)} {self.descifrar(self._modelo)} ({self.color})\"\n",
        "\n",
        "    def datos_cifrados(self):\n",
        "        print(f\"Marca: {self._marca}\")\n",
        "        print(f\"Modelo: {self._modelo}\")\n",
        "\n",
        "    def __eq__(self, otro_auto):\n",
        "        return self.precio == otro_auto.precio\n",
        "\n",
        "    def __lt__(self, otro_auto):\n",
        "        return self.velocidad_maxima < otro_auto.velocidad_maxima\n",
        "\n",
        "    def __gt__(self, otro_auto):\n",
        "        return self.velocidad_maxima > otro_auto.velocidad_maxima\n",
        "\n",
        "    def acelerar(self, incremento):\n",
        "        print(f\"{self} acelerando...\")\n",
        "        self.velocidad_maxima += incremento\n",
        "\n",
        "    def frenar(self, decremento):\n",
        "        print(f\"{self} frenando...\")\n",
        "        self.velocidad_maxima -= decremento\n",
        "\n",
        "    def pintar(self, nuevo_color):\n",
        "        print(f\"{self} pintado de {nuevo_color}\")\n",
        "        self.color = nuevo_color\n",
        "\n",
        "    def aumentar_precio(self, porcentaje):\n",
        "        print(f\"Aumentando el precio de {self} en un {porcentaje}%\")\n",
        "        self.precio *= (1 + porcentaje / 100)\n",
        "\n",
        "    def reducir_precio(self, porcentaje):\n",
        "        print(f\"Reduciendo el precio de {self} en un {porcentaje}%\")\n",
        "        self.precio *= (1 - porcentaje / 100)\n",
        "\n",
        "auto1 = Auto(\"Toyota\", \"Corolla\", \"Rojo\", 180, 20000)\n",
        "\n",
        "auto1.datos_cifrados()\n",
        "print(auto1)"
      ],
      "metadata": {
        "colab": {
          "base_uri": "https://localhost:8080/"
        },
        "id": "jFErCZ38BEHU",
        "outputId": "4c2a8bb6-86fc-4648-d49c-9c63bbe66a36"
      },
      "execution_count": 13,
      "outputs": [
        {
          "output_type": "stream",
          "name": "stdout",
          "text": [
            "Marca: b'gAAAAABnCTlJgf59kpVXwazUEmgwgRyfWfinYsGFOKQ2yLOhnMD-L60oZVztw4nwAk3OfdXF02FaY5VbFCaFwr5zzgAC1JwUqw=='\n",
            "Modelo: b'gAAAAABnCTlJzO6tJi1ghkuR3X9n9wNk-CTHibfp4-ONDBkBLNlUdl_b-zSmBpm613q7rYMHr4Guk_zFi3woa1FMzGPp37E0-w=='\n",
            "Auto Toyota Corolla (Rojo)\n"
          ]
        }
      ]
    }
  ]
}