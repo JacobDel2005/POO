{
  "nbformat": 4,
  "nbformat_minor": 0,
  "metadata": {
    "colab": {
      "provenance": [],
      "authorship_tag": "ABX9TyOPMennt5CuMOgtwZkojece",
      "include_colab_link": true
    },
    "kernelspec": {
      "name": "python3",
      "display_name": "Python 3"
    },
    "language_info": {
      "name": "python"
    }
  },
  "cells": [
    {
      "cell_type": "markdown",
      "metadata": {
        "id": "view-in-github",
        "colab_type": "text"
      },
      "source": [
        "<a href=\"https://colab.research.google.com/github/JacobDel2005/POO/blob/main/Actividad_5.ipynb\" target=\"_parent\"><img src=\"https://colab.research.google.com/assets/colab-badge.svg\" alt=\"Open In Colab\"/></a>"
      ]
    },
    {
      "cell_type": "code",
      "execution_count": null,
      "metadata": {
        "id": "xKxN1gEA0xiC",
        "colab": {
          "base_uri": "https://localhost:8080/"
        },
        "outputId": "893c2be3-7618-463a-d616-d3d0edf50877"
      },
      "outputs": [
        {
          "output_type": "stream",
          "name": "stdout",
          "text": [
            "Escribe tu nombre: Jacob Delgadillo\n",
            "Escribe tu email: dpjacob2005@gmail.com\n",
            "Escribe una password de mas de 8 caracteres, con simbolos especiales, minusculas y mayusculas: Password!99\n",
            "Escribe tu edad de 0-100: 19\n",
            "Nombre válido (Jacob Delgadillo)\n",
            "Email válido (dpjacob2005@gmail.com)\n",
            "Password válida (Password!99)\n",
            "Edad válida (19)\n"
          ]
        }
      ],
      "source": [
        "import re\n",
        "\n",
        "#Nombre\n",
        "def match_name():\n",
        "  pattern = r\"^[A-Za-z]+(?: [A-Za-z]+)*$\"\n",
        "  bandera=True\n",
        "  while bandera:\n",
        "    string=input(\"Escribe tu nombre: \")\n",
        "    if re.match(pattern, string):\n",
        "        return string\n",
        "\n",
        "nombre=match_name()\n",
        "\n",
        "#Email\n",
        "def match_email():\n",
        "  pattern = r\"^[a-zA-Z0-9._%+-]+@[a-zA-Z0-9.-]+\\.[a-zA-Z]{2,}$\"\n",
        "  bandera=True\n",
        "  while bandera:\n",
        "    string=input(\"Escribe tu email: \")\n",
        "    if re.match(pattern, string):\n",
        "        return string\n",
        "\n",
        "email=match_email()\n",
        "\n",
        "#Password\n",
        "def match_password():\n",
        "  pattern = r\"^(?=.*[a-z])(?=.*[A-Z])(?=.*[\\W]).{8,}$\"\n",
        "  bandera=True\n",
        "  while bandera:\n",
        "    string=input(\"Escribe una password de mas de 8 caracteres, con simbolos especiales, minusculas y mayusculas: \")\n",
        "    if re.match(pattern, string):\n",
        "        return string\n",
        "\n",
        "password=match_password()\n",
        "\n",
        "#Edad\n",
        "def lee_int0_50():\n",
        "  pattern = r\"^(100|[1-9]?[0-9])$\"\n",
        "  bandera=True\n",
        "  while bandera:\n",
        "    string=input(\"Escribe tu edad de 0-100: \")\n",
        "    if re.match(pattern, string):\n",
        "        return int(string)\n",
        "\n",
        "edad=lee_int0_50()\n",
        "\n",
        "#Imprimir valores\n",
        "print(f\"Nombre válido ({nombre})\")\n",
        "print(f\"Email válido ({email})\")\n",
        "print(f\"Password válida ({password})\")\n",
        "print(f\"Edad válida ({edad})\")\n"
      ]
    }
  ]
}