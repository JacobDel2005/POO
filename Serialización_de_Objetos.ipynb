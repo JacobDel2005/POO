{
  "nbformat": 4,
  "nbformat_minor": 0,
  "metadata": {
    "colab": {
      "provenance": [],
      "authorship_tag": "ABX9TyNF3JwD15OQ68rInY0lYiyK",
      "include_colab_link": true
    },
    "kernelspec": {
      "name": "python3",
      "display_name": "Python 3"
    },
    "language_info": {
      "name": "python"
    }
  },
  "cells": [
    {
      "cell_type": "markdown",
      "metadata": {
        "id": "view-in-github",
        "colab_type": "text"
      },
      "source": [
        "<a href=\"https://colab.research.google.com/github/JacobDel2005/POO/blob/main/Serializaci%C3%B3n_de_Objetos.ipynb\" target=\"_parent\"><img src=\"https://colab.research.google.com/assets/colab-badge.svg\" alt=\"Open In Colab\"/></a>"
      ]
    },
    {
      "cell_type": "code",
      "execution_count": null,
      "metadata": {
        "id": "1Zupn5m5Qhs5"
      },
      "outputs": [],
      "source": [
        "import pickle\n",
        "\n",
        "list=[\"apple\", \"grapes\",\"pear\"]\n",
        "\n",
        "with open(\"lst.pkl\",'wb') as file:\n",
        "  pickle.dump(list,file)\n",
        "# lista guardado en un archivo serializando la lista"
      ]
    },
    {
      "cell_type": "code",
      "source": [
        "import pickle\n",
        "\n",
        "with open(\"lst.pkl\",'rb') as file:\n",
        "  retrive_list= pickle.load(file)\n",
        "\n",
        "print(retrive_list)\n",
        "\n",
        "# lista recuperada del archivo serializando donde se encuentra la lista"
      ],
      "metadata": {
        "colab": {
          "base_uri": "https://localhost:8080/"
        },
        "id": "5zOuV-OzRI6v",
        "outputId": "59ba4d1d-7a6a-447c-823e-20d6050f69d3"
      },
      "execution_count": null,
      "outputs": [
        {
          "output_type": "stream",
          "name": "stdout",
          "text": [
            "['apple', 'grapes', 'pear']\n"
          ]
        }
      ]
    },
    {
      "cell_type": "code",
      "source": [
        "import pickle\n",
        "import os\n",
        "\n",
        "class Student:\n",
        "    def __init__(self, student_id, name, age, gender, grade, email, phone, address):\n",
        "        self.student_id = student_id\n",
        "        self.name = name\n",
        "        self.age = age\n",
        "        self.gender = gender\n",
        "        self.grade = grade\n",
        "        self.email = email\n",
        "        self.phone = phone\n",
        "        self.address = address\n",
        "\n",
        "    def __str__(self):\n",
        "        return (f\"ID: {self.student_id}, Name: {self.name}, Age: {self.age}, Gender: {self.gender}, \"\n",
        "                f\"Grade: {self.grade}, Email: {self.email}, Phone: {self.phone}, Address: {self.address}\")\n",
        "\n",
        "class StudentCRUD:\n",
        "    FILE_NAME = 'students.pkl'\n",
        "\n",
        "    def __init__(self):\n",
        "        self.students = self.load_students()\n",
        "\n",
        "    def load_students(self):\n",
        "        \"\"\"Load students from the pickle file.\"\"\"\n",
        "        if os.path.exists(self.FILE_NAME):\n",
        "            with open(self.FILE_NAME, 'rb') as f:\n",
        "                return pickle.load(f)\n",
        "        return []\n",
        "\n",
        "    def save_students(self):\n",
        "        \"\"\"Save students to the pickle file.\"\"\"\n",
        "        with open(self.FILE_NAME, 'wb') as f:\n",
        "            pickle.dump(self.students, f)\n",
        "\n",
        "    def create_student(self, student):\n",
        "        \"\"\"Add a new student.\"\"\"\n",
        "        self.students.append(student)\n",
        "        self.save_students()\n",
        "        print(f\"Student {student.name} added successfully.\")\n",
        "\n",
        "    def read_student(self, student_id):\n",
        "        \"\"\"Retrieve a student by ID.\"\"\"\n",
        "        for student in self.students:\n",
        "            if student.student_id == student_id:\n",
        "                return student\n",
        "        print(f\"No student found with ID: {student_id}\")\n",
        "        return None\n",
        "\n",
        "    def update_student(self, student_id, **kwargs):\n",
        "        \"\"\"Update student information.\"\"\"\n",
        "        student = self.read_student(student_id)\n",
        "        if student:\n",
        "            for key, value in kwargs.items():\n",
        "                if hasattr(student, key):\n",
        "                    setattr(student, key, value)\n",
        "            self.save_students()\n",
        "            print(f\"Student {student_id} updated successfully.\")\n",
        "\n",
        "    def delete_student(self, student_id):\n",
        "        \"\"\"Delete a student by ID.\"\"\"\n",
        "        student = self.read_student(student_id)\n",
        "        if student:\n",
        "            self.students.remove(student)\n",
        "            self.save_students()\n",
        "            print(f\"Student {student_id} deleted successfully.\")\n",
        "\n",
        "    def list_students(self):\n",
        "        \"\"\"List all students.\"\"\"\n",
        "        if self.students:\n",
        "            for student in self.students:\n",
        "                print(student)\n",
        "        else:\n",
        "            print(\"No students available.\")\n",
        "\n",
        "def main_menu():\n",
        "    \"\"\"Display the main menu for the CRUD system.\"\"\"\n",
        "    crud = StudentCRUD()\n",
        "\n",
        "    while True:\n",
        "        print(\"\\nStudent CRUD System\")\n",
        "        print(\"1. Add new student\")\n",
        "        print(\"2. View student by ID\")\n",
        "        print(\"3. Update student by ID\")\n",
        "        print(\"4. Delete student by ID\")\n",
        "        print(\"5. List all students\")\n",
        "        print(\"6. Exit\")\n",
        "\n",
        "        choice = input(\"Enter your choice: \")\n",
        "\n",
        "        if choice == '1':\n",
        "            try:\n",
        "                student_id = int(input(\"Enter Student ID: \"))\n",
        "                name = input(\"Enter Student Name: \")\n",
        "                age = int(input(\"Enter Student Age: \"))\n",
        "                gender = input(\"Enter Student Gender: \")\n",
        "                grade = input(\"Enter Student Grade: \")\n",
        "                email = input(\"Enter Student Email: \")\n",
        "                phone = input(\"Enter Student Phone: \")\n",
        "                address = input(\"Enter Student Address: \")\n",
        "\n",
        "                student = Student(student_id, name, age, gender, grade, email, phone, address)\n",
        "                crud.create_student(student)\n",
        "            except ValueError:\n",
        "                print(\"Invalid input. Please enter correct values.\")\n",
        "\n",
        "        elif choice == '2':\n",
        "            try:\n",
        "                student_id = int(input(\"Enter Student ID to view: \"))\n",
        "                student = crud.read_student(student_id)\n",
        "                if student:\n",
        "                    print(student)\n",
        "            except ValueError:\n",
        "                print(\"Invalid ID. Please enter a number.\")\n",
        "\n",
        "        elif choice == '3':\n",
        "            try:\n",
        "                student_id = int(input(\"Enter Student ID to update: \"))\n",
        "                updates = {}\n",
        "                print(\"Leave fields blank if you don't want to update them.\")\n",
        "                updates['name'] = input(\"Enter new name: \") or None\n",
        "                updates['age'] = input(\"Enter new age: \") or None\n",
        "                updates['gender'] = input(\"Enter new gender: \") or None\n",
        "                updates['grade'] = input(\"Enter new grade: \") or None\n",
        "                updates['email'] = input(\"Enter new email: \") or None\n",
        "                updates['phone'] = input(\"Enter new phone: \") or None\n",
        "                updates['address'] = input(\"Enter new address: \") or None\n",
        "\n",
        "                updates = {k: v for k, v in updates.items() if v is not None}\n",
        "\n",
        "                if updates:\n",
        "                    crud.update_student(student_id, **updates)\n",
        "                else:\n",
        "                    print(\"No updates provided.\")\n",
        "            except ValueError:\n",
        "                print(\"Invalid ID. Please enter a number.\")\n",
        "\n",
        "        elif choice == '4':\n",
        "            try:\n",
        "                student_id = int(input(\"Enter Student ID to delete: \"))\n",
        "                crud.delete_student(student_id)\n",
        "            except ValueError:\n",
        "                print(\"Invalid ID. Please enter a number.\")\n",
        "\n",
        "        elif choice == '5':\n",
        "            print(\"\\nList of Students:\")\n",
        "            crud.list_students()\n",
        "\n",
        "        elif choice == '6':\n",
        "            print(\"Exiting the system.\")\n",
        "            break\n",
        "\n",
        "        else:\n",
        "            print(\"Invalid choice. Please select a valid option.\")\n",
        "\n",
        "if __name__ == '__main__':\n",
        "    main_menu()"
      ],
      "metadata": {
        "colab": {
          "base_uri": "https://localhost:8080/"
        },
        "id": "Z8Xn6NoNYiny",
        "outputId": "be8db4c8-b1f1-450b-e651-585922d802ab"
      },
      "execution_count": null,
      "outputs": [
        {
          "output_type": "stream",
          "name": "stdout",
          "text": [
            "\n",
            "Student CRUD System\n",
            "1. Add new student\n",
            "2. View student by ID\n",
            "3. Update student by ID\n",
            "4. Delete student by ID\n",
            "5. List all students\n",
            "6. Exit\n",
            "Enter your choice: 6\n",
            "Exiting the system.\n"
          ]
        }
      ]
    }
  ]
}